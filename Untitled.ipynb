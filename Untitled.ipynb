{
 "cells": [
  {
   "cell_type": "code",
   "execution_count": 1,
   "id": "64416143-80bb-4588-aaf8-0ca1fb02629b",
   "metadata": {},
   "outputs": [],
   "source": [
    "f = [5, 3, 3]\n",
    "r = 2"
   ]
  },
  {
   "cell_type": "code",
   "execution_count": 2,
   "id": "328034a3-fdf2-44bd-b940-95f9c341e6b5",
   "metadata": {},
   "outputs": [
    {
     "data": {
      "text/plain": [
       "14"
      ]
     },
     "execution_count": 2,
     "metadata": {},
     "output_type": "execute_result"
    }
   ],
   "source": [
    "17 - sum([fp % 2 for fp in f])"
   ]
  },
  {
   "cell_type": "code",
   "execution_count": 3,
   "id": "4a7a1065-f31f-401b-ad65-edc52292ff77",
   "metadata": {},
   "outputs": [],
   "source": [
    "import torchvision"
   ]
  },
  {
   "cell_type": "code",
   "execution_count": 4,
   "id": "45b457a7-51a4-42f5-8e20-1a4d5f919b7f",
   "metadata": {},
   "outputs": [],
   "source": [
    "img = torchvision.io.read_image(\"./data/DIV2K_train_LR_unknown/X2/0001x2.png\")"
   ]
  },
  {
   "cell_type": "code",
   "execution_count": 5,
   "id": "7f1ea5c1-e273-44ed-9e73-3a112789447e",
   "metadata": {},
   "outputs": [
    {
     "data": {
      "text/plain": [
       "tensor([[[80, 81, 78,  ..., 17, 15, 14],\n",
       "         [82, 83, 80,  ..., 17, 16, 14],\n",
       "         [87, 87, 83,  ..., 17, 16, 15],\n",
       "         ...,\n",
       "         [25, 24, 25,  ..., 48, 30, 24],\n",
       "         [24, 25, 27,  ..., 31, 25, 23],\n",
       "         [25, 27, 31,  ..., 25, 24, 23]],\n",
       "\n",
       "        [[65, 66, 62,  ...,  4,  5,  5],\n",
       "         [66, 67, 63,  ...,  4,  5,  5],\n",
       "         [70, 68, 65,  ...,  5,  5,  5],\n",
       "         ...,\n",
       "         [15, 14, 14,  ..., 37, 21, 15],\n",
       "         [16, 15, 17,  ..., 23, 17, 14],\n",
       "         [19, 19, 22,  ..., 17, 16, 14]],\n",
       "\n",
       "        [[65, 62, 58,  ...,  1,  0,  0],\n",
       "         [65, 64, 59,  ...,  1,  1,  0],\n",
       "         [67, 67, 64,  ...,  1,  1,  0],\n",
       "         ...,\n",
       "         [ 5,  4,  7,  ..., 13,  3,  3],\n",
       "         [ 7,  6, 11,  ...,  4,  1,  1],\n",
       "         [ 9, 10, 15,  ...,  1,  1,  1]]], dtype=torch.uint8)"
      ]
     },
     "execution_count": 5,
     "metadata": {},
     "output_type": "execute_result"
    }
   ],
   "source": [
    "img"
   ]
  },
  {
   "cell_type": "code",
   "execution_count": 7,
   "id": "943654a7-d5a7-4585-a4fd-c5ead443aa8c",
   "metadata": {},
   "outputs": [
    {
     "data": {
      "text/plain": [
       "torch.Size([3, 702, 1020])"
      ]
     },
     "execution_count": 7,
     "metadata": {},
     "output_type": "execute_result"
    }
   ],
   "source": [
    "img.shape"
   ]
  },
  {
   "cell_type": "markdown",
   "id": "744af3b4-614c-46e2-a536-2d703201af31",
   "metadata": {},
   "source": [
    "https://discuss.pytorch.org/t/creating-nonoverlapping-patches-from-3d-data-and-reshape-them-back-to-the-image/51210/5"
   ]
  },
  {
   "cell_type": "code",
   "execution_count": 11,
   "id": "d38e4c53-df14-4c5a-b165-7c396f5e0ee8",
   "metadata": {},
   "outputs": [],
   "source": [
    "kh, kw = (17, 17)  # kernel size\n",
    "\n",
    "# stride length\n",
    "dh, dw = (17 - sum([fp % 2 for fp in f]), 17 - sum([fp % 2 for fp in f]))"
   ]
  },
  {
   "cell_type": "code",
   "execution_count": 23,
   "id": "3f3de036-17c9-4c04-9ec2-905f9fa80a07",
   "metadata": {},
   "outputs": [],
   "source": [
    "import torch.nn.functional as F"
   ]
  },
  {
   "cell_type": "code",
   "execution_count": 24,
   "id": "376a5750-d2a2-4db3-a789-8e4b18621d96",
   "metadata": {},
   "outputs": [],
   "source": [
    "x = F.pad(img, (img.size(2)%kw // 2, img.size(2)%kw // 2,\n",
    "                img.size(1)%kh // 2, img.size(1)%kh // 2))"
   ]
  },
  {
   "cell_type": "code",
   "execution_count": 26,
   "id": "064b6b66-37d3-4e22-ab7b-895461907d05",
   "metadata": {},
   "outputs": [
    {
     "data": {
      "text/plain": [
       "torch.Size([3, 706, 1020])"
      ]
     },
     "execution_count": 26,
     "metadata": {},
     "output_type": "execute_result"
    }
   ],
   "source": [
    "x.size()"
   ]
  },
  {
   "cell_type": "code",
   "execution_count": 27,
   "id": "ea142054-c3c7-4d8f-bc98-754bd6609547",
   "metadata": {},
   "outputs": [],
   "source": [
    "patches = x.unfold(1, kh, dh).unfold(2, kw, dw)\n",
    "unfold_shape = patches.size()"
   ]
  },
  {
   "cell_type": "code",
   "execution_count": 28,
   "id": "3aaf7456-5f9a-4b20-8db9-a80954ee6e75",
   "metadata": {},
   "outputs": [
    {
     "data": {
      "text/plain": [
       "torch.Size([3, 50, 72, 17, 17])"
      ]
     },
     "execution_count": 28,
     "metadata": {},
     "output_type": "execute_result"
    }
   ],
   "source": [
    "unfold_shape"
   ]
  },
  {
   "cell_type": "code",
   "execution_count": 29,
   "id": "757dca32-8d0e-4e93-979e-3a7cfe6da3f9",
   "metadata": {},
   "outputs": [],
   "source": [
    "patches = patches.contiguous().view(-1, 3, kh, kw)"
   ]
  },
  {
   "cell_type": "code",
   "execution_count": 30,
   "id": "d02b7d63-5b42-471d-8367-db629cc625bf",
   "metadata": {},
   "outputs": [
    {
     "data": {
      "text/plain": [
       "torch.Size([3600, 3, 17, 17])"
      ]
     },
     "execution_count": 30,
     "metadata": {},
     "output_type": "execute_result"
    }
   ],
   "source": [
    "patches.size()"
   ]
  },
  {
   "cell_type": "code",
   "execution_count": 31,
   "id": "3ebaaa43-ddb9-4e0f-ae6b-e5217a1a38aa",
   "metadata": {},
   "outputs": [],
   "source": [
    "# reshape back\n",
    "patches_orig = patches.view(unfold_shape)\n",
    "output_c = 3\n",
    "output_h = unfold_shape[1] * unfold_shape[3]\n",
    "output_w = unfold_shape[2] * unfold_shape[4]"
   ]
  },
  {
   "cell_type": "code",
   "execution_count": 32,
   "id": "c28112cc-71df-4282-b66e-ea5b7332af70",
   "metadata": {},
   "outputs": [
    {
     "data": {
      "text/plain": [
       "850"
      ]
     },
     "execution_count": 32,
     "metadata": {},
     "output_type": "execute_result"
    }
   ],
   "source": [
    "output_h"
   ]
  },
  {
   "cell_type": "code",
   "execution_count": 33,
   "id": "e6d59c2d-0780-42dd-b4d1-f15547e256fb",
   "metadata": {},
   "outputs": [
    {
     "data": {
      "text/plain": [
       "1224"
      ]
     },
     "execution_count": 33,
     "metadata": {},
     "output_type": "execute_result"
    }
   ],
   "source": [
    "output_w"
   ]
  },
  {
   "cell_type": "code",
   "execution_count": null,
   "id": "ed704fdf-bb6d-40a9-8d24-2fc73dd41bce",
   "metadata": {},
   "outputs": [],
   "source": []
  }
 ],
 "metadata": {
  "kernelspec": {
   "display_name": "Python 3 (ipykernel)",
   "language": "python",
   "name": "python3"
  },
  "language_info": {
   "codemirror_mode": {
    "name": "ipython",
    "version": 3
   },
   "file_extension": ".py",
   "mimetype": "text/x-python",
   "name": "python",
   "nbconvert_exporter": "python",
   "pygments_lexer": "ipython3",
   "version": "3.10.8"
  }
 },
 "nbformat": 4,
 "nbformat_minor": 5
}
